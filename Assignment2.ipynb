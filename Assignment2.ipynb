{
 "cells": [
  {
   "cell_type": "raw",
   "id": "cae9e4db",
   "metadata": {},
   "source": [
    "1.The two boolean values are True and False.We can write directly as \"True\" or \"False\"."
   ]
  },
  {
   "cell_type": "raw",
   "id": "72aab95f",
   "metadata": {},
   "source": [
    "2.The different types of boolean operators are AND,OR,NOT."
   ]
  },
  {
   "cell_type": "raw",
   "id": "f07e146c",
   "metadata": {},
   "source": [
    "3.For AND operator-\n",
    "True AND True=True\n",
    "True AND False=False\n",
    "False AND True=False\n",
    "False AND False=False\n",
    "\n",
    "For OR operator-\n",
    "True AND True=True\n",
    "True AND False=True\n",
    "False AND True=True\n",
    "False AND False=False\n",
    "\n",
    "For Not operator-\n",
    "Not True=False\n",
    "Not False=True"
   ]
  },
  {
   "cell_type": "raw",
   "id": "a2486592",
   "metadata": {},
   "source": [
    "4.1 False\n",
    "4.2 False\n",
    "4.3 True\n",
    "4.4 False\n",
    "4.5 False\n",
    "4.6 True"
   ]
  },
  {
   "cell_type": "raw",
   "id": "a851fd5d",
   "metadata": {},
   "source": [
    "5.Given below are the comparison operators-\n",
    "<  : Less than\n",
    ">  : Greater than\n",
    "<= : Less than or equal to \n",
    ">= : Greater than or equal to\n",
    "== : Equal to \n",
    "!= : Not equal to"
   ]
  },
  {
   "cell_type": "raw",
   "id": "940b6aac",
   "metadata": {},
   "source": [
    "6.Equal to has a symbol == but assignment operator has symbol =\n",
    "We can use equal to where we need to check whether two values are equal or not for ex- 3==3\n",
    "will return True as 3 is equal to 3.But assignment operator is used where we need to assign a value\n",
    "to a variable ex: a=3 is assigning 3 to variable a."
   ]
  },
  {
   "cell_type": "raw",
   "id": "3164b318",
   "metadata": {},
   "source": [
    "7.The three blocks are if,if and else."
   ]
  },
  {
   "cell_type": "raw",
   "id": "77c7f1aa",
   "metadata": {},
   "source": [
    "8.Code can be like-\n",
    "if spam==1:\n",
    "    print(\"Hello\")\n",
    "elif spam==2:\n",
    "    print(\"Howdy\")\n",
    "else:\n",
    "    print(\"Greetings\")"
   ]
  },
  {
   "cell_type": "raw",
   "id": "8d54c45b",
   "metadata": {},
   "source": [
    "9.If program goes in endless or infinite loop then we can press interrupt key or option."
   ]
  },
  {
   "cell_type": "raw",
   "id": "90125e8f",
   "metadata": {},
   "source": [
    "10.break will break or stops the loop immediately and comes out of it stopping any further execution.\n",
    "continue statement will just skip the current iteration and the loop will keep on running till completion."
   ]
  },
  {
   "cell_type": "raw",
   "id": "e9abb578",
   "metadata": {},
   "source": [
    "11.1 range(10) is by default using 0 as starting point and 10 as the last index,so it will give range of values from 0 to 9\n",
    "11.2 range(0,10)- Here we are explicitly giving starting point as 0.If we will give any other value then it will start from there.This example will give range of values from 0 to 9\n",
    "11.3 range(0,10,1)- Here we have given starting and ending point but the third value 1 is the step which should be taken.So from 0 to 9 it will jump with 1 as a step to increase the value till last index 10.This example will give range of values from 0 to 9"
   ]
  },
  {
   "cell_type": "markdown",
   "id": "4d3ed759",
   "metadata": {},
   "source": [
    "12.The program by use of for loop -\n",
    "for i in range(0,10,1):\n",
    "    print(i)\n",
    "The program by use of while loop is-\n",
    "i=0\n",
    "while i<10:\n",
    "    print(i)\n",
    "    i+=1"
   ]
  },
  {
   "cell_type": "raw",
   "id": "5a0d8084",
   "metadata": {},
   "source": [
    "13. We can do this to call the function-\n",
    "spam.bacon()"
   ]
  }
 ],
 "metadata": {
  "kernelspec": {
   "display_name": "Python 3 (ipykernel)",
   "language": "python",
   "name": "python3"
  },
  "language_info": {
   "codemirror_mode": {
    "name": "ipython",
    "version": 3
   },
   "file_extension": ".py",
   "mimetype": "text/x-python",
   "name": "python",
   "nbconvert_exporter": "python",
   "pygments_lexer": "ipython3",
   "version": "3.9.12"
  }
 },
 "nbformat": 4,
 "nbformat_minor": 5
}
