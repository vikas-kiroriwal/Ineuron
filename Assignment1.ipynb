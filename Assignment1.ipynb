{
 "cells": [
  {
   "cell_type": "raw",
   "id": "54890c51",
   "metadata": {},
   "source": [
    "1.values='hello', -87.8 ,6 expressions=* ,-, /, + "
   ]
  },
  {
   "cell_type": "raw",
   "id": "20da4f97",
   "metadata": {},
   "source": [
    "2.string is a datatype whereas a variable is used to store datatypes.So, a variable can be string and can store string data.String can only accept data in string format."
   ]
  },
  {
   "cell_type": "raw",
   "id": "61208229",
   "metadata": {},
   "source": [
    "3.String(str):It is a datatype which can store a string of characters.\n",
    "Int(int):It is a datatype which can store integers values only.\n",
    "Dict(dict):For fast lookup of values using keys associated with every value,we use dictionary datatype.It can store data in key value pairs."
   ]
  },
  {
   "cell_type": "raw",
   "id": "1d5a4157",
   "metadata": {},
   "source": [
    "4.An expression is used to do some operations using different operators on different operands.An expression is a kind of statement which can return some value.\n"
   ]
  },
  {
   "cell_type": "raw",
   "id": "425ddd77",
   "metadata": {},
   "source": [
    "5.An expression returns a value after the evaluation like a=3+4 , so a will be 7 but statement is just like following the statement written like if a=\"dfghjk\",so here it is just assigning a string to variable but not returning or evaluating anything.So for spam=10,we can say it is a statement as it is just as it is.No operations we are performing on it."
   ]
  },
  {
   "cell_type": "raw",
   "id": "cc87446b",
   "metadata": {},
   "source": [
    "6. 22"
   ]
  },
  {
   "cell_type": "raw",
   "id": "ee62a307",
   "metadata": {},
   "source": [
    "7. spamspamspam \n",
    "   spamspamspam"
   ]
  },
  {
   "cell_type": "raw",
   "id": "ac157b06",
   "metadata": {},
   "source": [
    "8.Because it is not allowed in python to have a variable name's first letter as integer.Only letter or underscore is allowed."
   ]
  },
  {
   "cell_type": "raw",
   "id": "7f0f19f8",
   "metadata": {},
   "source": [
    "9.int(),float() and str() are three functions respectively."
   ]
  },
  {
   "cell_type": "raw",
   "id": "f5017856",
   "metadata": {},
   "source": [
    "10.Because int can't be concatenated with string.So to correct it 99 should be written as '99'."
   ]
  }
 ],
 "metadata": {
  "kernelspec": {
   "display_name": "Python 3 (ipykernel)",
   "language": "python",
   "name": "python3"
  },
  "language_info": {
   "codemirror_mode": {
    "name": "ipython",
    "version": 3
   },
   "file_extension": ".py",
   "mimetype": "text/x-python",
   "name": "python",
   "nbconvert_exporter": "python",
   "pygments_lexer": "ipython3",
   "version": "3.9.12"
  }
 },
 "nbformat": 4,
 "nbformat_minor": 5
}
